{
 "cells": [
  {
   "cell_type": "code",
   "execution_count": 1,
   "metadata": {},
   "outputs": [
    {
     "name": "stderr",
     "output_type": "stream",
     "text": [
      "/usr/lib/python3/dist-packages/requests/__init__.py:87: RequestsDependencyWarning: urllib3 (2.0.4) or chardet (4.0.0) doesn't match a supported version!\n",
      "  warnings.warn(\"urllib3 ({}) or chardet ({}) doesn't match a supported \"\n"
     ]
    }
   ],
   "source": [
    "from clase import cuartas \n",
    "from clasificacion import *\n",
    "import glob \n",
    "import os\n",
    "from tqdm import tqdm"
   ]
  },
  {
   "cell_type": "code",
   "execution_count": 13,
   "metadata": {},
   "outputs": [],
   "source": [
    "# ruta_xmls = '../Archivos/Corales/Corales20/*.xml'\n",
    "xml_files = glob.glob('../Archivos/Corales/Corales_20/*.xml')\n",
    "xml_files.sort()   #Para organizar alfabeticamente los archivos, para que quede igual que en la carpeta"
   ]
  },
  {
   "cell_type": "code",
   "execution_count": 14,
   "metadata": {},
   "outputs": [
    {
     "data": {
      "text/plain": [
       "['../Archivos/Corales/Corales_20/002506B_.xml',\n",
       " '../Archivos/Corales/Corales_20/002606B_.xml',\n",
       " '../Archivos/Corales/Corales_20/002706B_.xml',\n",
       " '../Archivos/Corales/Corales_20/002806B_.xml',\n",
       " '../Archivos/Corales/Corales_20/002908B_.xml',\n",
       " '../Archivos/Corales/Corales_20/003006B_.xml',\n",
       " '../Archivos/Corales/Corales_20/003109B_.xml',\n",
       " '../Archivos/Corales/Corales_20/003206B_.xml',\n",
       " '../Archivos/Corales/Corales_20/003306B_.xml',\n",
       " '../Archivos/Corales/Corales_20/003604B2.xml',\n",
       " '../Archivos/Corales/Corales_20/003608B2.xml',\n",
       " '../Archivos/Corales/Corales_20/003706B_.xml',\n",
       " '../Archivos/Corales/Corales_20/003806B_.xml',\n",
       " '../Archivos/Corales/Corales_20/003907B_.xml',\n",
       " '../Archivos/Corales/Corales_20/004003B_.xml',\n",
       " '../Archivos/Corales/Corales_20/004006B_.xml',\n",
       " '../Archivos/Corales/Corales_20/004008B_.xml',\n",
       " '../Archivos/Corales/Corales_20/004106B_.xml',\n",
       " '../Archivos/Corales/Corales_20/004207B_.xml',\n",
       " '../Archivos/Corales/Corales_20/004311B_.xml']"
      ]
     },
     "execution_count": 14,
     "metadata": {},
     "output_type": "execute_result"
    }
   ],
   "source": [
    "xml_files"
   ]
  },
  {
   "cell_type": "code",
   "execution_count": 16,
   "metadata": {},
   "outputs": [],
   "source": [
    "#Guardar los nombre de los archivos\n",
    "\n",
    "def extraer_nombre_archivo(ruta):\n",
    "    nombre_archivo = os.path.basename(ruta)\n",
    "    return nombre_archivo\n",
    "\n",
    "\n",
    "nombres = [extraer_nombre_archivo(ruta) for ruta in xml_files]\n",
    "\n",
    "\n",
    "#Cambiar nombre de los archivos a 1,2,3 ...\n",
    "\n",
    "# for i, ruta in enumerate(xml_files):\n",
    "#     os.rename(ruta, f'../Archivos/Corales/Corales_20/{i+1}.xml')\n"
   ]
  },
  {
   "cell_type": "code",
   "execution_count": 22,
   "metadata": {},
   "outputs": [
    {
     "data": {
      "text/plain": [
       "[1, 2, 3, 4, 5, 6, 7, 8, 9, 10, 11, 12, 13, 14, 15, 16, 17, 18, 19, 20]"
      ]
     },
     "execution_count": 22,
     "metadata": {},
     "output_type": "execute_result"
    }
   ],
   "source": [
    "nuevos_nombres = [i for i in range(1,len(xml_files)+1)]\n",
    "nuevos_nombres"
   ]
  },
  {
   "cell_type": "code",
   "execution_count": 35,
   "metadata": {},
   "outputs": [
    {
     "data": {
      "text/html": [
       "<div>\n",
       "<style scoped>\n",
       "    .dataframe tbody tr th:only-of-type {\n",
       "        vertical-align: middle;\n",
       "    }\n",
       "\n",
       "    .dataframe tbody tr th {\n",
       "        vertical-align: top;\n",
       "    }\n",
       "\n",
       "    .dataframe thead th {\n",
       "        text-align: right;\n",
       "    }\n",
       "</style>\n",
       "<table border=\"1\" class=\"dataframe\">\n",
       "  <thead>\n",
       "    <tr style=\"text-align: right;\">\n",
       "      <th></th>\n",
       "      <th>Nombres_catalogo</th>\n",
       "      <th>Nuevo_nombre</th>\n",
       "    </tr>\n",
       "  </thead>\n",
       "  <tbody>\n",
       "    <tr>\n",
       "      <th>0</th>\n",
       "      <td>002506B_.xml</td>\n",
       "      <td>1</td>\n",
       "    </tr>\n",
       "    <tr>\n",
       "      <th>1</th>\n",
       "      <td>002606B_.xml</td>\n",
       "      <td>2</td>\n",
       "    </tr>\n",
       "    <tr>\n",
       "      <th>2</th>\n",
       "      <td>002706B_.xml</td>\n",
       "      <td>3</td>\n",
       "    </tr>\n",
       "    <tr>\n",
       "      <th>3</th>\n",
       "      <td>002806B_.xml</td>\n",
       "      <td>4</td>\n",
       "    </tr>\n",
       "    <tr>\n",
       "      <th>4</th>\n",
       "      <td>002908B_.xml</td>\n",
       "      <td>5</td>\n",
       "    </tr>\n",
       "    <tr>\n",
       "      <th>5</th>\n",
       "      <td>003006B_.xml</td>\n",
       "      <td>6</td>\n",
       "    </tr>\n",
       "    <tr>\n",
       "      <th>6</th>\n",
       "      <td>003109B_.xml</td>\n",
       "      <td>7</td>\n",
       "    </tr>\n",
       "    <tr>\n",
       "      <th>7</th>\n",
       "      <td>003206B_.xml</td>\n",
       "      <td>8</td>\n",
       "    </tr>\n",
       "    <tr>\n",
       "      <th>8</th>\n",
       "      <td>003306B_.xml</td>\n",
       "      <td>9</td>\n",
       "    </tr>\n",
       "    <tr>\n",
       "      <th>9</th>\n",
       "      <td>003604B2.xml</td>\n",
       "      <td>10</td>\n",
       "    </tr>\n",
       "    <tr>\n",
       "      <th>10</th>\n",
       "      <td>003608B2.xml</td>\n",
       "      <td>11</td>\n",
       "    </tr>\n",
       "    <tr>\n",
       "      <th>11</th>\n",
       "      <td>003706B_.xml</td>\n",
       "      <td>12</td>\n",
       "    </tr>\n",
       "    <tr>\n",
       "      <th>12</th>\n",
       "      <td>003806B_.xml</td>\n",
       "      <td>13</td>\n",
       "    </tr>\n",
       "    <tr>\n",
       "      <th>13</th>\n",
       "      <td>003907B_.xml</td>\n",
       "      <td>14</td>\n",
       "    </tr>\n",
       "    <tr>\n",
       "      <th>14</th>\n",
       "      <td>004003B_.xml</td>\n",
       "      <td>15</td>\n",
       "    </tr>\n",
       "    <tr>\n",
       "      <th>15</th>\n",
       "      <td>004006B_.xml</td>\n",
       "      <td>16</td>\n",
       "    </tr>\n",
       "    <tr>\n",
       "      <th>16</th>\n",
       "      <td>004008B_.xml</td>\n",
       "      <td>17</td>\n",
       "    </tr>\n",
       "    <tr>\n",
       "      <th>17</th>\n",
       "      <td>004106B_.xml</td>\n",
       "      <td>18</td>\n",
       "    </tr>\n",
       "    <tr>\n",
       "      <th>18</th>\n",
       "      <td>004207B_.xml</td>\n",
       "      <td>19</td>\n",
       "    </tr>\n",
       "    <tr>\n",
       "      <th>19</th>\n",
       "      <td>004311B_.xml</td>\n",
       "      <td>20</td>\n",
       "    </tr>\n",
       "  </tbody>\n",
       "</table>\n",
       "</div>"
      ],
      "text/plain": [
       "   Nombres_catalogo  Nuevo_nombre\n",
       "0      002506B_.xml             1\n",
       "1      002606B_.xml             2\n",
       "2      002706B_.xml             3\n",
       "3      002806B_.xml             4\n",
       "4      002908B_.xml             5\n",
       "5      003006B_.xml             6\n",
       "6      003109B_.xml             7\n",
       "7      003206B_.xml             8\n",
       "8      003306B_.xml             9\n",
       "9      003604B2.xml            10\n",
       "10     003608B2.xml            11\n",
       "11     003706B_.xml            12\n",
       "12     003806B_.xml            13\n",
       "13     003907B_.xml            14\n",
       "14     004003B_.xml            15\n",
       "15     004006B_.xml            16\n",
       "16     004008B_.xml            17\n",
       "17     004106B_.xml            18\n",
       "18     004207B_.xml            19\n",
       "19     004311B_.xml            20"
      ]
     },
     "execution_count": 35,
     "metadata": {},
     "output_type": "execute_result"
    }
   ],
   "source": [
    "correspondencia_nombres = pd.DataFrame({\n",
    "    'Nombres_catalogo' :nombres , \n",
    "    'Nuevo_nombre': nuevos_nombres})\n",
    "correspondencia_nombres"
   ]
  },
  {
   "cell_type": "code",
   "execution_count": 52,
   "metadata": {},
   "outputs": [],
   "source": [
    "xml_files = glob.glob('../Archivos/Corales/Corales_20/*.xml')"
   ]
  },
  {
   "cell_type": "code",
   "execution_count": 53,
   "metadata": {},
   "outputs": [
    {
     "name": "stderr",
     "output_type": "stream",
     "text": [
      "  0%|          | 0/20 [00:00<?, ?it/s]"
     ]
    },
    {
     "name": "stdout",
     "output_type": "stream",
     "text": [
      "../Archivos/Corales/Corales_20/8.xml\n"
     ]
    },
    {
     "name": "stderr",
     "output_type": "stream",
     "text": [
      "  5%|▌         | 1/20 [00:00<00:11,  1.59it/s]"
     ]
    },
    {
     "name": "stdout",
     "output_type": "stream",
     "text": [
      "Se extrajo el df\n",
      "Se clasifico el df\n",
      "../Archivos/Corales/Corales_20/16.xml\n"
     ]
    },
    {
     "name": "stderr",
     "output_type": "stream",
     "text": [
      " 10%|█         | 2/20 [00:01<00:09,  1.87it/s]"
     ]
    },
    {
     "name": "stdout",
     "output_type": "stream",
     "text": [
      "Se extrajo el df\n",
      "Se clasifico el df\n",
      "../Archivos/Corales/Corales_20/11.xml\n"
     ]
    },
    {
     "name": "stderr",
     "output_type": "stream",
     "text": [
      " 15%|█▌        | 3/20 [00:01<00:06,  2.44it/s]"
     ]
    },
    {
     "name": "stdout",
     "output_type": "stream",
     "text": [
      "Se extrajo el df\n",
      "Se clasifico el df\n",
      "../Archivos/Corales/Corales_20/15.xml\n"
     ]
    },
    {
     "name": "stderr",
     "output_type": "stream",
     "text": [
      " 20%|██        | 4/20 [00:01<00:06,  2.48it/s]"
     ]
    },
    {
     "name": "stdout",
     "output_type": "stream",
     "text": [
      "Se extrajo el df\n",
      "Se clasifico el df\n",
      "../Archivos/Corales/Corales_20/17.xml\n"
     ]
    },
    {
     "name": "stderr",
     "output_type": "stream",
     "text": [
      " 25%|██▌       | 5/20 [00:02<00:06,  2.22it/s]"
     ]
    },
    {
     "name": "stdout",
     "output_type": "stream",
     "text": [
      "Se extrajo el df\n",
      "Se clasifico el df\n",
      "../Archivos/Corales/Corales_20/1.xml\n"
     ]
    },
    {
     "name": "stderr",
     "output_type": "stream",
     "text": [
      " 30%|███       | 6/20 [00:02<00:06,  2.11it/s]"
     ]
    },
    {
     "name": "stdout",
     "output_type": "stream",
     "text": [
      "Se extrajo el df\n",
      "Se clasifico el df\n",
      "../Archivos/Corales/Corales_20/14.xml\n"
     ]
    },
    {
     "name": "stderr",
     "output_type": "stream",
     "text": [
      " 35%|███▌      | 7/20 [00:03<00:06,  2.00it/s]"
     ]
    },
    {
     "name": "stdout",
     "output_type": "stream",
     "text": [
      "Se extrajo el df\n",
      "Se clasifico el df\n",
      "../Archivos/Corales/Corales_20/9.xml\n"
     ]
    },
    {
     "name": "stderr",
     "output_type": "stream",
     "text": [
      " 40%|████      | 8/20 [00:04<00:06,  1.76it/s]"
     ]
    },
    {
     "name": "stdout",
     "output_type": "stream",
     "text": [
      "Se extrajo el df\n",
      "Se clasifico el df\n",
      "../Archivos/Corales/Corales_20/20.xml\n"
     ]
    },
    {
     "name": "stderr",
     "output_type": "stream",
     "text": [
      " 45%|████▌     | 9/20 [00:04<00:05,  1.85it/s]"
     ]
    },
    {
     "name": "stdout",
     "output_type": "stream",
     "text": [
      "Se extrajo el df\n",
      "Se clasifico el df\n",
      "../Archivos/Corales/Corales_20/19.xml\n"
     ]
    },
    {
     "name": "stderr",
     "output_type": "stream",
     "text": [
      " 50%|█████     | 10/20 [00:05<00:06,  1.52it/s]"
     ]
    },
    {
     "name": "stdout",
     "output_type": "stream",
     "text": [
      "Se extrajo el df\n",
      "Se clasifico el df\n",
      "../Archivos/Corales/Corales_20/4.xml\n"
     ]
    },
    {
     "name": "stderr",
     "output_type": "stream",
     "text": [
      " 55%|█████▌    | 11/20 [00:05<00:05,  1.66it/s]"
     ]
    },
    {
     "name": "stdout",
     "output_type": "stream",
     "text": [
      "Se extrajo el df\n",
      "Se clasifico el df\n",
      "../Archivos/Corales/Corales_20/3.xml\n"
     ]
    },
    {
     "name": "stderr",
     "output_type": "stream",
     "text": [
      " 60%|██████    | 12/20 [00:06<00:04,  1.66it/s]"
     ]
    },
    {
     "name": "stdout",
     "output_type": "stream",
     "text": [
      "Se extrajo el df\n",
      "Se clasifico el df\n",
      "../Archivos/Corales/Corales_20/2.xml\n"
     ]
    },
    {
     "name": "stderr",
     "output_type": "stream",
     "text": [
      " 65%|██████▌   | 13/20 [00:06<00:03,  1.93it/s]"
     ]
    },
    {
     "name": "stdout",
     "output_type": "stream",
     "text": [
      "Se extrajo el df\n",
      "Se clasifico el df\n",
      "../Archivos/Corales/Corales_20/18.xml\n"
     ]
    },
    {
     "name": "stderr",
     "output_type": "stream",
     "text": [
      " 70%|███████   | 14/20 [00:09<00:06,  1.04s/it]"
     ]
    },
    {
     "name": "stdout",
     "output_type": "stream",
     "text": [
      "Se extrajo el df\n",
      "Se clasifico el df\n",
      "../Archivos/Corales/Corales_20/10.xml\n"
     ]
    },
    {
     "name": "stderr",
     "output_type": "stream",
     "text": [
      " 75%|███████▌  | 15/20 [00:09<00:04,  1.15it/s]"
     ]
    },
    {
     "name": "stdout",
     "output_type": "stream",
     "text": [
      "Se extrajo el df\n",
      "Se clasifico el df\n",
      "../Archivos/Corales/Corales_20/6.xml\n"
     ]
    },
    {
     "name": "stderr",
     "output_type": "stream",
     "text": [
      " 80%|████████  | 16/20 [00:10<00:03,  1.33it/s]"
     ]
    },
    {
     "name": "stdout",
     "output_type": "stream",
     "text": [
      "Se extrajo el df\n",
      "Se clasifico el df\n",
      "../Archivos/Corales/Corales_20/5.xml\n"
     ]
    },
    {
     "name": "stderr",
     "output_type": "stream",
     "text": [
      " 85%|████████▌ | 17/20 [00:11<00:02,  1.13it/s]"
     ]
    },
    {
     "name": "stdout",
     "output_type": "stream",
     "text": [
      "Se extrajo el df\n",
      "Se clasifico el df\n",
      "../Archivos/Corales/Corales_20/13.xml\n"
     ]
    },
    {
     "name": "stderr",
     "output_type": "stream",
     "text": [
      " 90%|█████████ | 18/20 [00:11<00:01,  1.35it/s]"
     ]
    },
    {
     "name": "stdout",
     "output_type": "stream",
     "text": [
      "Se extrajo el df\n",
      "Se clasifico el df\n",
      "../Archivos/Corales/Corales_20/12.xml\n"
     ]
    },
    {
     "name": "stderr",
     "output_type": "stream",
     "text": [
      " 95%|█████████▌| 19/20 [00:12<00:00,  1.63it/s]"
     ]
    },
    {
     "name": "stdout",
     "output_type": "stream",
     "text": [
      "Se extrajo el df\n",
      "Se clasifico el df\n",
      "../Archivos/Corales/Corales_20/7.xml\n"
     ]
    },
    {
     "name": "stderr",
     "output_type": "stream",
     "text": [
      "100%|██████████| 20/20 [00:12<00:00,  1.60it/s]"
     ]
    },
    {
     "name": "stdout",
     "output_type": "stream",
     "text": [
      "Se extrajo el df\n",
      "Se clasifico el df\n"
     ]
    },
    {
     "name": "stderr",
     "output_type": "stream",
     "text": [
      "\n"
     ]
    }
   ],
   "source": [
    "df_final = pd.DataFrame()\n",
    "xml_error = []\n",
    "for i in tqdm(xml_files):\n",
    "    print(i)\n",
    "    try:\n",
    "        prueba = cuartas(i)\n",
    "        df = prueba.extraer_df()\n",
    "        print('Se extrajo el df')\n",
    "        df_clasificacion = dataframe_clasificacion(df)\n",
    "        print('Se clasifico el df')\n",
    "\n",
    "        #Nombre del coral\n",
    "\n",
    "        nombre = extraer_nombre_archivo(i)\n",
    "        df_clasificacion['Nombre'] =nombre\n",
    "        df_final = pd.concat([df_final,df_clasificacion])\n",
    "    except:\n",
    "        xml_error.append(i)\n",
    "        print('Error')\n",
    "        continue"
   ]
  },
  {
   "cell_type": "code",
   "execution_count": 56,
   "metadata": {},
   "outputs": [],
   "source": [
    "df_final.drop_duplicates(inplace=True)"
   ]
  },
  {
   "cell_type": "code",
   "execution_count": 57,
   "metadata": {},
   "outputs": [
    {
     "data": {
      "text/html": [
       "<div>\n",
       "<style scoped>\n",
       "    .dataframe tbody tr th:only-of-type {\n",
       "        vertical-align: middle;\n",
       "    }\n",
       "\n",
       "    .dataframe tbody tr th {\n",
       "        vertical-align: top;\n",
       "    }\n",
       "\n",
       "    .dataframe thead th {\n",
       "        text-align: right;\n",
       "    }\n",
       "</style>\n",
       "<table border=\"1\" class=\"dataframe\">\n",
       "  <thead>\n",
       "    <tr style=\"text-align: right;\">\n",
       "      <th></th>\n",
       "      <th>Acordes</th>\n",
       "      <th>Compás</th>\n",
       "      <th>Beat</th>\n",
       "      <th>Duración</th>\n",
       "      <th>Suma_paso (n/4)</th>\n",
       "      <th>Suma_cadencial (n/4)</th>\n",
       "      <th>Suma_bordadura (n/3)</th>\n",
       "      <th>Clasificación</th>\n",
       "      <th>Nombre</th>\n",
       "    </tr>\n",
       "  </thead>\n",
       "  <tbody>\n",
       "    <tr>\n",
       "      <th>0</th>\n",
       "      <td>['F#3', 'G3', 'D4', 'B4']</td>\n",
       "      <td>3</td>\n",
       "      <td>3.50</td>\n",
       "      <td>0.50</td>\n",
       "      <td>0.0</td>\n",
       "      <td>0.0</td>\n",
       "      <td>0.0</td>\n",
       "      <td>NI</td>\n",
       "      <td>8.xml</td>\n",
       "    </tr>\n",
       "    <tr>\n",
       "      <th>8</th>\n",
       "      <td>['F#3', 'G3', 'D4', 'B4']</td>\n",
       "      <td>7</td>\n",
       "      <td>3.50</td>\n",
       "      <td>0.50</td>\n",
       "      <td>0.0</td>\n",
       "      <td>0.0</td>\n",
       "      <td>0.0</td>\n",
       "      <td>NI</td>\n",
       "      <td>8.xml</td>\n",
       "    </tr>\n",
       "    <tr>\n",
       "      <th>16</th>\n",
       "      <td>['E3', 'A3', 'A4', 'C5']</td>\n",
       "      <td>3</td>\n",
       "      <td>4.00</td>\n",
       "      <td>0.50</td>\n",
       "      <td>0.0</td>\n",
       "      <td>0.0</td>\n",
       "      <td>0.0</td>\n",
       "      <td>NI</td>\n",
       "      <td>8.xml</td>\n",
       "    </tr>\n",
       "    <tr>\n",
       "      <th>24</th>\n",
       "      <td>['E3', 'A3', 'A4', 'C5']</td>\n",
       "      <td>7</td>\n",
       "      <td>4.00</td>\n",
       "      <td>0.50</td>\n",
       "      <td>0.0</td>\n",
       "      <td>0.0</td>\n",
       "      <td>0.0</td>\n",
       "      <td>NI</td>\n",
       "      <td>8.xml</td>\n",
       "    </tr>\n",
       "    <tr>\n",
       "      <th>32</th>\n",
       "      <td>['F#3', 'D4', 'G4', 'B4']</td>\n",
       "      <td>9</td>\n",
       "      <td>1.50</td>\n",
       "      <td>0.50</td>\n",
       "      <td>0.0</td>\n",
       "      <td>0.0</td>\n",
       "      <td>0.0</td>\n",
       "      <td>NI</td>\n",
       "      <td>8.xml</td>\n",
       "    </tr>\n",
       "    <tr>\n",
       "      <th>...</th>\n",
       "      <td>...</td>\n",
       "      <td>...</td>\n",
       "      <td>...</td>\n",
       "      <td>...</td>\n",
       "      <td>...</td>\n",
       "      <td>...</td>\n",
       "      <td>...</td>\n",
       "      <td>...</td>\n",
       "      <td>...</td>\n",
       "    </tr>\n",
       "    <tr>\n",
       "      <th>163</th>\n",
       "      <td>['B2', 'G3', 'G4', 'E5', 'G5']</td>\n",
       "      <td>13</td>\n",
       "      <td>4.50</td>\n",
       "      <td>0.50</td>\n",
       "      <td>0.0</td>\n",
       "      <td>0.0</td>\n",
       "      <td>0.0</td>\n",
       "      <td>NI</td>\n",
       "      <td>7.xml</td>\n",
       "    </tr>\n",
       "    <tr>\n",
       "      <th>164</th>\n",
       "      <td>['A2', 'D4', 'F4', 'F5', 'B5']</td>\n",
       "      <td>14</td>\n",
       "      <td>1.50</td>\n",
       "      <td>0.50</td>\n",
       "      <td>0.0</td>\n",
       "      <td>0.0</td>\n",
       "      <td>0.0</td>\n",
       "      <td>NI</td>\n",
       "      <td>7.xml</td>\n",
       "    </tr>\n",
       "    <tr>\n",
       "      <th>165</th>\n",
       "      <td>['G2', 'E4', 'G4', 'E5', 'C6']</td>\n",
       "      <td>14</td>\n",
       "      <td>2.00</td>\n",
       "      <td>0.50</td>\n",
       "      <td>0.0</td>\n",
       "      <td>0.0</td>\n",
       "      <td>0.0</td>\n",
       "      <td>NI</td>\n",
       "      <td>7.xml</td>\n",
       "    </tr>\n",
       "    <tr>\n",
       "      <th>166</th>\n",
       "      <td>['G2', 'E4', 'A4', 'D5', 'C6']</td>\n",
       "      <td>14</td>\n",
       "      <td>2.50</td>\n",
       "      <td>0.25</td>\n",
       "      <td>0.0</td>\n",
       "      <td>0.0</td>\n",
       "      <td>0.0</td>\n",
       "      <td>NI</td>\n",
       "      <td>7.xml</td>\n",
       "    </tr>\n",
       "    <tr>\n",
       "      <th>167</th>\n",
       "      <td>['G2', 'E4', 'B-4', 'D5', 'C6']</td>\n",
       "      <td>14</td>\n",
       "      <td>2.75</td>\n",
       "      <td>0.25</td>\n",
       "      <td>0.0</td>\n",
       "      <td>0.0</td>\n",
       "      <td>0.0</td>\n",
       "      <td>NI</td>\n",
       "      <td>7.xml</td>\n",
       "    </tr>\n",
       "  </tbody>\n",
       "</table>\n",
       "<p>201 rows × 9 columns</p>\n",
       "</div>"
      ],
      "text/plain": [
       "                             Acordes  Compás  Beat  Duración  Suma_paso (n/4)  \\\n",
       "0          ['F#3', 'G3', 'D4', 'B4']       3  3.50      0.50              0.0   \n",
       "8          ['F#3', 'G3', 'D4', 'B4']       7  3.50      0.50              0.0   \n",
       "16          ['E3', 'A3', 'A4', 'C5']       3  4.00      0.50              0.0   \n",
       "24          ['E3', 'A3', 'A4', 'C5']       7  4.00      0.50              0.0   \n",
       "32         ['F#3', 'D4', 'G4', 'B4']       9  1.50      0.50              0.0   \n",
       "..                               ...     ...   ...       ...              ...   \n",
       "163   ['B2', 'G3', 'G4', 'E5', 'G5']      13  4.50      0.50              0.0   \n",
       "164   ['A2', 'D4', 'F4', 'F5', 'B5']      14  1.50      0.50              0.0   \n",
       "165   ['G2', 'E4', 'G4', 'E5', 'C6']      14  2.00      0.50              0.0   \n",
       "166   ['G2', 'E4', 'A4', 'D5', 'C6']      14  2.50      0.25              0.0   \n",
       "167  ['G2', 'E4', 'B-4', 'D5', 'C6']      14  2.75      0.25              0.0   \n",
       "\n",
       "     Suma_cadencial (n/4)  Suma_bordadura (n/3) Clasificación Nombre  \n",
       "0                     0.0                   0.0            NI  8.xml  \n",
       "8                     0.0                   0.0            NI  8.xml  \n",
       "16                    0.0                   0.0            NI  8.xml  \n",
       "24                    0.0                   0.0            NI  8.xml  \n",
       "32                    0.0                   0.0            NI  8.xml  \n",
       "..                    ...                   ...           ...    ...  \n",
       "163                   0.0                   0.0            NI  7.xml  \n",
       "164                   0.0                   0.0            NI  7.xml  \n",
       "165                   0.0                   0.0            NI  7.xml  \n",
       "166                   0.0                   0.0            NI  7.xml  \n",
       "167                   0.0                   0.0            NI  7.xml  \n",
       "\n",
       "[201 rows x 9 columns]"
      ]
     },
     "execution_count": 57,
     "metadata": {},
     "output_type": "execute_result"
    }
   ],
   "source": [
    "df_final"
   ]
  },
  {
   "cell_type": "code",
   "execution_count": 58,
   "metadata": {},
   "outputs": [
    {
     "data": {
      "text/plain": [
       "Clasificación\n",
       "NI           193\n",
       "Paso           6\n",
       "Cadencial      2\n",
       "Name: count, dtype: int64"
      ]
     },
     "execution_count": 58,
     "metadata": {},
     "output_type": "execute_result"
    }
   ],
   "source": [
    "df_final['Clasificación'].value_counts()"
   ]
  }
 ],
 "metadata": {
  "kernelspec": {
   "display_name": "Python 3",
   "language": "python",
   "name": "python3"
  },
  "language_info": {
   "codemirror_mode": {
    "name": "ipython",
    "version": 3
   },
   "file_extension": ".py",
   "mimetype": "text/x-python",
   "name": "python",
   "nbconvert_exporter": "python",
   "pygments_lexer": "ipython3",
   "version": "3.10.12"
  }
 },
 "nbformat": 4,
 "nbformat_minor": 2
}
