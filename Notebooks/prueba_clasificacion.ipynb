{
 "cells": [
  {
   "cell_type": "code",
   "execution_count": 1,
   "metadata": {},
   "outputs": [
    {
     "name": "stderr",
     "output_type": "stream",
     "text": [
      "/usr/lib/python3/dist-packages/requests/__init__.py:87: RequestsDependencyWarning: urllib3 (2.0.4) or chardet (4.0.0) doesn't match a supported version!\n",
      "  warnings.warn(\"urllib3 ({}) or chardet ({}) doesn't match a supported \"\n"
     ]
    },
    {
     "data": {
      "text/html": [
       "<div>\n",
       "<style scoped>\n",
       "    .dataframe tbody tr th:only-of-type {\n",
       "        vertical-align: middle;\n",
       "    }\n",
       "\n",
       "    .dataframe tbody tr th {\n",
       "        vertical-align: top;\n",
       "    }\n",
       "\n",
       "    .dataframe thead th {\n",
       "        text-align: right;\n",
       "    }\n",
       "</style>\n",
       "<table border=\"1\" class=\"dataframe\">\n",
       "  <thead>\n",
       "    <tr style=\"text-align: right;\">\n",
       "      <th></th>\n",
       "      <th>Acordes</th>\n",
       "      <th>Condición1</th>\n",
       "      <th>Condición2</th>\n",
       "      <th>Condición3</th>\n",
       "      <th>Condición4</th>\n",
       "      <th>Suma</th>\n",
       "    </tr>\n",
       "  </thead>\n",
       "  <tbody>\n",
       "    <tr>\n",
       "      <th>10</th>\n",
       "      <td>[D3, B3, G4, E5]</td>\n",
       "      <td>True</td>\n",
       "      <td>True</td>\n",
       "      <td>True</td>\n",
       "      <td>True</td>\n",
       "      <td>4</td>\n",
       "    </tr>\n",
       "    <tr>\n",
       "      <th>31</th>\n",
       "      <td>[G3, E4, A4, C5]</td>\n",
       "      <td>True</td>\n",
       "      <td>True</td>\n",
       "      <td>True</td>\n",
       "      <td>False</td>\n",
       "      <td>3</td>\n",
       "    </tr>\n",
       "    <tr>\n",
       "      <th>34</th>\n",
       "      <td>[E3, E4, A4, C5]</td>\n",
       "      <td>True</td>\n",
       "      <td>True</td>\n",
       "      <td>True</td>\n",
       "      <td>False</td>\n",
       "      <td>3</td>\n",
       "    </tr>\n",
       "  </tbody>\n",
       "</table>\n",
       "</div>"
      ],
      "text/plain": [
       "             Acordes  Condición1  Condición2  Condición3  Condición4  Suma\n",
       "10  [D3, B3, G4, E5]        True        True        True        True     4\n",
       "31  [G3, E4, A4, C5]        True        True        True       False     3\n",
       "34  [E3, E4, A4, C5]        True        True        True       False     3"
      ]
     },
     "execution_count": 1,
     "metadata": {},
     "output_type": "execute_result"
    }
   ],
   "source": [
    "from clase import cuartas \n",
    "\n",
    "from clasificacion import *\n",
    "\n",
    "#Ejemplo coral Bach\n",
    "bach_path = '../Archivos/Corales/028600B_.xml'\n",
    "bach = cuartas(bach_path)\n",
    "df = bach.extraer_df()\n",
    "\n",
    "\n",
    "#Clasificación\n",
    "aa = acorde6_4_paso(df)\n",
    "aa\n",
    "\n",
    "\n"
   ]
  },
  {
   "cell_type": "code",
   "execution_count": 2,
   "metadata": {},
   "outputs": [
    {
     "data": {
      "text/html": [
       "<div>\n",
       "<style scoped>\n",
       "    .dataframe tbody tr th:only-of-type {\n",
       "        vertical-align: middle;\n",
       "    }\n",
       "\n",
       "    .dataframe tbody tr th {\n",
       "        vertical-align: top;\n",
       "    }\n",
       "\n",
       "    .dataframe thead th {\n",
       "        text-align: right;\n",
       "    }\n",
       "</style>\n",
       "<table border=\"1\" class=\"dataframe\">\n",
       "  <thead>\n",
       "    <tr style=\"text-align: right;\">\n",
       "      <th></th>\n",
       "      <th>Acordes</th>\n",
       "      <th>Mismo bajo</th>\n",
       "      <th>Condición cuartas</th>\n",
       "      <th>Condición sextas</th>\n",
       "      <th>Suma</th>\n",
       "    </tr>\n",
       "  </thead>\n",
       "  <tbody>\n",
       "    <tr>\n",
       "      <th>10</th>\n",
       "      <td>[D3, B3, G4, E5]</td>\n",
       "      <td>False</td>\n",
       "      <td>False</td>\n",
       "      <td>False</td>\n",
       "      <td>0</td>\n",
       "    </tr>\n",
       "    <tr>\n",
       "      <th>31</th>\n",
       "      <td>[G3, E4, A4, C5]</td>\n",
       "      <td>False</td>\n",
       "      <td>False</td>\n",
       "      <td>False</td>\n",
       "      <td>0</td>\n",
       "    </tr>\n",
       "    <tr>\n",
       "      <th>34</th>\n",
       "      <td>[E3, E4, A4, C5]</td>\n",
       "      <td>False</td>\n",
       "      <td>False</td>\n",
       "      <td>False</td>\n",
       "      <td>0</td>\n",
       "    </tr>\n",
       "  </tbody>\n",
       "</table>\n",
       "</div>"
      ],
      "text/plain": [
       "             Acordes  Mismo bajo  Condición cuartas  Condición sextas  Suma\n",
       "10  [D3, B3, G4, E5]       False              False             False     0\n",
       "31  [G3, E4, A4, C5]       False              False             False     0\n",
       "34  [E3, E4, A4, C5]       False              False             False     0"
      ]
     },
     "execution_count": 2,
     "metadata": {},
     "output_type": "execute_result"
    }
   ],
   "source": [
    "ab = acorde6_4_bordadura(df)\n",
    "ab"
   ]
  },
  {
   "cell_type": "code",
   "execution_count": 3,
   "metadata": {},
   "outputs": [
    {
     "data": {
      "text/html": [
       "<div>\n",
       "<style scoped>\n",
       "    .dataframe tbody tr th:only-of-type {\n",
       "        vertical-align: middle;\n",
       "    }\n",
       "\n",
       "    .dataframe tbody tr th {\n",
       "        vertical-align: top;\n",
       "    }\n",
       "\n",
       "    .dataframe thead th {\n",
       "        text-align: right;\n",
       "    }\n",
       "</style>\n",
       "<table border=\"1\" class=\"dataframe\">\n",
       "  <thead>\n",
       "    <tr style=\"text-align: right;\">\n",
       "      <th></th>\n",
       "      <th>Acordes</th>\n",
       "      <th>Terceras</th>\n",
       "      <th>Sextas</th>\n",
       "      <th>Suma</th>\n",
       "    </tr>\n",
       "  </thead>\n",
       "  <tbody>\n",
       "    <tr>\n",
       "      <th>10</th>\n",
       "      <td>[D3, B3, G4, E5]</td>\n",
       "      <td>False</td>\n",
       "      <td>False</td>\n",
       "      <td>0</td>\n",
       "    </tr>\n",
       "    <tr>\n",
       "      <th>31</th>\n",
       "      <td>[G3, E4, A4, C5]</td>\n",
       "      <td>False</td>\n",
       "      <td>True</td>\n",
       "      <td>1</td>\n",
       "    </tr>\n",
       "    <tr>\n",
       "      <th>34</th>\n",
       "      <td>[E3, E4, A4, C5]</td>\n",
       "      <td>False</td>\n",
       "      <td>True</td>\n",
       "      <td>1</td>\n",
       "    </tr>\n",
       "  </tbody>\n",
       "</table>\n",
       "</div>"
      ],
      "text/plain": [
       "             Acordes  Terceras  Sextas  Suma\n",
       "10  [D3, B3, G4, E5]     False   False     0\n",
       "31  [G3, E4, A4, C5]     False    True     1\n",
       "34  [E3, E4, A4, C5]     False    True     1"
      ]
     },
     "execution_count": 3,
     "metadata": {},
     "output_type": "execute_result"
    }
   ],
   "source": [
    "acorde6_4_cadencial(df)"
   ]
  },
  {
   "cell_type": "code",
   "execution_count": 4,
   "metadata": {},
   "outputs": [
    {
     "data": {
      "text/html": [
       "<div>\n",
       "<style scoped>\n",
       "    .dataframe tbody tr th:only-of-type {\n",
       "        vertical-align: middle;\n",
       "    }\n",
       "\n",
       "    .dataframe tbody tr th {\n",
       "        vertical-align: top;\n",
       "    }\n",
       "\n",
       "    .dataframe thead th {\n",
       "        text-align: right;\n",
       "    }\n",
       "</style>\n",
       "<table border=\"1\" class=\"dataframe\">\n",
       "  <thead>\n",
       "    <tr style=\"text-align: right;\">\n",
       "      <th></th>\n",
       "      <th>Acordes</th>\n",
       "      <th>Condición1</th>\n",
       "      <th>Condición2</th>\n",
       "      <th>Condición3</th>\n",
       "      <th>Condición4</th>\n",
       "      <th>Suma</th>\n",
       "    </tr>\n",
       "  </thead>\n",
       "  <tbody>\n",
       "    <tr>\n",
       "      <th>1</th>\n",
       "      <td>[D3, B3, G4, D5]</td>\n",
       "      <td>True</td>\n",
       "      <td>True</td>\n",
       "      <td>True</td>\n",
       "      <td>True</td>\n",
       "      <td>4</td>\n",
       "    </tr>\n",
       "    <tr>\n",
       "      <th>5</th>\n",
       "      <td>[G3, E4, G4, C5]</td>\n",
       "      <td>False</td>\n",
       "      <td>False</td>\n",
       "      <td>False</td>\n",
       "      <td>True</td>\n",
       "      <td>1</td>\n",
       "    </tr>\n",
       "    <tr>\n",
       "      <th>8</th>\n",
       "      <td>[C3, F4, A4, C5]</td>\n",
       "      <td>False</td>\n",
       "      <td>False</td>\n",
       "      <td>False</td>\n",
       "      <td>False</td>\n",
       "      <td>0</td>\n",
       "    </tr>\n",
       "  </tbody>\n",
       "</table>\n",
       "</div>"
      ],
      "text/plain": [
       "            Acordes  Condición1  Condición2  Condición3  Condición4  Suma\n",
       "1  [D3, B3, G4, D5]        True        True        True        True     4\n",
       "5  [G3, E4, G4, C5]       False       False       False        True     1\n",
       "8  [C3, F4, A4, C5]       False       False       False       False     0"
      ]
     },
     "execution_count": 4,
     "metadata": {},
     "output_type": "execute_result"
    }
   ],
   "source": [
    "#Ejemplo coral Bach\n",
    "prueba_path = '/home/cuba/Documents/UNIVERSIDAD/M_C/Archivos/XML_ejemplos/Acordes 6-4_abril25.musicxml'\n",
    "prueba = cuartas(prueba_path)\n",
    "df = prueba.extraer_df()\n",
    "\n",
    "\n",
    "#Clasificación\n",
    "ap = acorde6_4_paso(df)\n",
    "ap\n",
    "\n",
    "\n"
   ]
  },
  {
   "cell_type": "code",
   "execution_count": 5,
   "metadata": {},
   "outputs": [
    {
     "data": {
      "text/html": [
       "<div>\n",
       "<style scoped>\n",
       "    .dataframe tbody tr th:only-of-type {\n",
       "        vertical-align: middle;\n",
       "    }\n",
       "\n",
       "    .dataframe tbody tr th {\n",
       "        vertical-align: top;\n",
       "    }\n",
       "\n",
       "    .dataframe thead th {\n",
       "        text-align: right;\n",
       "    }\n",
       "</style>\n",
       "<table border=\"1\" class=\"dataframe\">\n",
       "  <thead>\n",
       "    <tr style=\"text-align: right;\">\n",
       "      <th></th>\n",
       "      <th>Acordes</th>\n",
       "      <th>Terceras</th>\n",
       "      <th>Sextas</th>\n",
       "      <th>Suma</th>\n",
       "    </tr>\n",
       "  </thead>\n",
       "  <tbody>\n",
       "    <tr>\n",
       "      <th>1</th>\n",
       "      <td>[D3, B3, G4, D5]</td>\n",
       "      <td>False</td>\n",
       "      <td>False</td>\n",
       "      <td>0</td>\n",
       "    </tr>\n",
       "    <tr>\n",
       "      <th>5</th>\n",
       "      <td>[G3, E4, G4, C5]</td>\n",
       "      <td>True</td>\n",
       "      <td>True</td>\n",
       "      <td>2</td>\n",
       "    </tr>\n",
       "    <tr>\n",
       "      <th>8</th>\n",
       "      <td>[C3, F4, A4, C5]</td>\n",
       "      <td>True</td>\n",
       "      <td>True</td>\n",
       "      <td>2</td>\n",
       "    </tr>\n",
       "  </tbody>\n",
       "</table>\n",
       "</div>"
      ],
      "text/plain": [
       "            Acordes  Terceras  Sextas  Suma\n",
       "1  [D3, B3, G4, D5]     False   False     0\n",
       "5  [G3, E4, G4, C5]      True    True     2\n",
       "8  [C3, F4, A4, C5]      True    True     2"
      ]
     },
     "execution_count": 5,
     "metadata": {},
     "output_type": "execute_result"
    }
   ],
   "source": [
    "ac = acorde6_4_cadencial(df)\n",
    "ac"
   ]
  },
  {
   "cell_type": "code",
   "execution_count": 6,
   "metadata": {},
   "outputs": [
    {
     "data": {
      "text/html": [
       "<div>\n",
       "<style scoped>\n",
       "    .dataframe tbody tr th:only-of-type {\n",
       "        vertical-align: middle;\n",
       "    }\n",
       "\n",
       "    .dataframe tbody tr th {\n",
       "        vertical-align: top;\n",
       "    }\n",
       "\n",
       "    .dataframe thead th {\n",
       "        text-align: right;\n",
       "    }\n",
       "</style>\n",
       "<table border=\"1\" class=\"dataframe\">\n",
       "  <thead>\n",
       "    <tr style=\"text-align: right;\">\n",
       "      <th></th>\n",
       "      <th>Acordes</th>\n",
       "      <th>Mismo bajo</th>\n",
       "      <th>Condición cuartas</th>\n",
       "      <th>Condición sextas</th>\n",
       "      <th>Suma</th>\n",
       "    </tr>\n",
       "  </thead>\n",
       "  <tbody>\n",
       "    <tr>\n",
       "      <th>1</th>\n",
       "      <td>[D3, B3, G4, D5]</td>\n",
       "      <td>False</td>\n",
       "      <td>False</td>\n",
       "      <td>False</td>\n",
       "      <td>0</td>\n",
       "    </tr>\n",
       "    <tr>\n",
       "      <th>5</th>\n",
       "      <td>[G3, E4, G4, C5]</td>\n",
       "      <td>False</td>\n",
       "      <td>False</td>\n",
       "      <td>False</td>\n",
       "      <td>0</td>\n",
       "    </tr>\n",
       "    <tr>\n",
       "      <th>8</th>\n",
       "      <td>[C3, F4, A4, C5]</td>\n",
       "      <td>True</td>\n",
       "      <td>True</td>\n",
       "      <td>True</td>\n",
       "      <td>3</td>\n",
       "    </tr>\n",
       "  </tbody>\n",
       "</table>\n",
       "</div>"
      ],
      "text/plain": [
       "            Acordes  Mismo bajo  Condición cuartas  Condición sextas  Suma\n",
       "1  [D3, B3, G4, D5]       False              False             False     0\n",
       "5  [G3, E4, G4, C5]       False              False             False     0\n",
       "8  [C3, F4, A4, C5]        True               True              True     3"
      ]
     },
     "execution_count": 6,
     "metadata": {},
     "output_type": "execute_result"
    }
   ],
   "source": [
    "ab = acorde6_4_bordadura(df)\n",
    "ab"
   ]
  },
  {
   "cell_type": "code",
   "execution_count": 7,
   "metadata": {},
   "outputs": [
    {
     "data": {
      "text/html": [
       "<div>\n",
       "<style scoped>\n",
       "    .dataframe tbody tr th:only-of-type {\n",
       "        vertical-align: middle;\n",
       "    }\n",
       "\n",
       "    .dataframe tbody tr th {\n",
       "        vertical-align: top;\n",
       "    }\n",
       "\n",
       "    .dataframe thead th {\n",
       "        text-align: right;\n",
       "    }\n",
       "</style>\n",
       "<table border=\"1\" class=\"dataframe\">\n",
       "  <thead>\n",
       "    <tr style=\"text-align: right;\">\n",
       "      <th></th>\n",
       "      <th>Notas</th>\n",
       "      <th>Intervalos</th>\n",
       "      <th>Nombre intervalo simplificado</th>\n",
       "      <th>Num_semitonos</th>\n",
       "      <th>Nombre intervalo completo</th>\n",
       "      <th>Beat</th>\n",
       "      <th>Compás</th>\n",
       "      <th>Duración</th>\n",
       "      <th>Tipo</th>\n",
       "    </tr>\n",
       "  </thead>\n",
       "  <tbody>\n",
       "    <tr>\n",
       "      <th>0</th>\n",
       "      <td>[C3, C4, G4, E5]</td>\n",
       "      <td>[8, 5, 3]</td>\n",
       "      <td>[P8, P5, M3]</td>\n",
       "      <td>[12, 19, 28]</td>\n",
       "      <td>[Perfect Octave, Perfect Fifth, Major Third]</td>\n",
       "      <td>1.0</td>\n",
       "      <td>1</td>\n",
       "      <td>4.0</td>\n",
       "      <td>whole</td>\n",
       "    </tr>\n",
       "    <tr>\n",
       "      <th>1</th>\n",
       "      <td>[D3, B3, G4, D5]</td>\n",
       "      <td>[8, 6, 4]</td>\n",
       "      <td>[M6, P4, P8]</td>\n",
       "      <td>[9, 17, 24]</td>\n",
       "      <td>[Major Sixth, Perfect Fourth, Perfect Octave]</td>\n",
       "      <td>1.0</td>\n",
       "      <td>2</td>\n",
       "      <td>4.0</td>\n",
       "      <td>whole</td>\n",
       "    </tr>\n",
       "    <tr>\n",
       "      <th>2</th>\n",
       "      <td>[E3, C4, G4, C5]</td>\n",
       "      <td>[6, 6, 3]</td>\n",
       "      <td>[m6, m3, m6]</td>\n",
       "      <td>[8, 15, 20]</td>\n",
       "      <td>[Minor Sixth, Minor Third, Minor Sixth]</td>\n",
       "      <td>1.0</td>\n",
       "      <td>3</td>\n",
       "      <td>4.0</td>\n",
       "      <td>whole</td>\n",
       "    </tr>\n",
       "    <tr>\n",
       "      <th>3</th>\n",
       "      <td>[F3, D4, F4, B4]</td>\n",
       "      <td>[8, 6, 4]</td>\n",
       "      <td>[M6, P8, A4]</td>\n",
       "      <td>[9, 12, 18]</td>\n",
       "      <td>[Major Sixth, Perfect Octave, Augmented Fourth]</td>\n",
       "      <td>1.0</td>\n",
       "      <td>4</td>\n",
       "      <td>4.0</td>\n",
       "      <td>whole</td>\n",
       "    </tr>\n",
       "    <tr>\n",
       "      <th>4</th>\n",
       "      <td>[E3, E4, G4, C5]</td>\n",
       "      <td>[8, 6, 3]</td>\n",
       "      <td>[P8, m3, m6]</td>\n",
       "      <td>[12, 15, 20]</td>\n",
       "      <td>[Perfect Octave, Minor Third, Minor Sixth]</td>\n",
       "      <td>1.0</td>\n",
       "      <td>5</td>\n",
       "      <td>4.0</td>\n",
       "      <td>whole</td>\n",
       "    </tr>\n",
       "    <tr>\n",
       "      <th>5</th>\n",
       "      <td>[G3, E4, G4, C5]</td>\n",
       "      <td>[8, 6, 4]</td>\n",
       "      <td>[M6, P8, P4]</td>\n",
       "      <td>[9, 12, 17]</td>\n",
       "      <td>[Major Sixth, Perfect Octave, Perfect Fourth]</td>\n",
       "      <td>1.0</td>\n",
       "      <td>6</td>\n",
       "      <td>2.0</td>\n",
       "      <td>half</td>\n",
       "    </tr>\n",
       "    <tr>\n",
       "      <th>6</th>\n",
       "      <td>[G3, D4, G4, B4]</td>\n",
       "      <td>[8, 5, 3]</td>\n",
       "      <td>[P5, P8, M3]</td>\n",
       "      <td>[7, 12, 16]</td>\n",
       "      <td>[Perfect Fifth, Perfect Octave, Major Third]</td>\n",
       "      <td>3.0</td>\n",
       "      <td>6</td>\n",
       "      <td>2.0</td>\n",
       "      <td>half</td>\n",
       "    </tr>\n",
       "    <tr>\n",
       "      <th>7</th>\n",
       "      <td>[C3, E4, G4, C5]</td>\n",
       "      <td>[8, 5, 3]</td>\n",
       "      <td>[M3, P5, P8]</td>\n",
       "      <td>[16, 19, 24]</td>\n",
       "      <td>[Major Third, Perfect Fifth, Perfect Octave]</td>\n",
       "      <td>1.0</td>\n",
       "      <td>7</td>\n",
       "      <td>4.0</td>\n",
       "      <td>whole</td>\n",
       "    </tr>\n",
       "    <tr>\n",
       "      <th>8</th>\n",
       "      <td>[C3, F4, A4, C5]</td>\n",
       "      <td>[8, 6, 4]</td>\n",
       "      <td>[P4, M6, P8]</td>\n",
       "      <td>[17, 21, 24]</td>\n",
       "      <td>[Perfect Fourth, Major Sixth, Perfect Octave]</td>\n",
       "      <td>1.0</td>\n",
       "      <td>8</td>\n",
       "      <td>4.0</td>\n",
       "      <td>whole</td>\n",
       "    </tr>\n",
       "    <tr>\n",
       "      <th>9</th>\n",
       "      <td>[C3, E4, G4, C5]</td>\n",
       "      <td>[8, 5, 3]</td>\n",
       "      <td>[M3, P5, P8]</td>\n",
       "      <td>[16, 19, 24]</td>\n",
       "      <td>[Major Third, Perfect Fifth, Perfect Octave]</td>\n",
       "      <td>1.0</td>\n",
       "      <td>9</td>\n",
       "      <td>4.0</td>\n",
       "      <td>whole</td>\n",
       "    </tr>\n",
       "  </tbody>\n",
       "</table>\n",
       "</div>"
      ],
      "text/plain": [
       "              Notas Intervalos Nombre intervalo simplificado Num_semitonos  \\\n",
       "0  [C3, C4, G4, E5]  [8, 5, 3]                  [P8, P5, M3]  [12, 19, 28]   \n",
       "1  [D3, B3, G4, D5]  [8, 6, 4]                  [M6, P4, P8]   [9, 17, 24]   \n",
       "2  [E3, C4, G4, C5]  [6, 6, 3]                  [m6, m3, m6]   [8, 15, 20]   \n",
       "3  [F3, D4, F4, B4]  [8, 6, 4]                  [M6, P8, A4]   [9, 12, 18]   \n",
       "4  [E3, E4, G4, C5]  [8, 6, 3]                  [P8, m3, m6]  [12, 15, 20]   \n",
       "5  [G3, E4, G4, C5]  [8, 6, 4]                  [M6, P8, P4]   [9, 12, 17]   \n",
       "6  [G3, D4, G4, B4]  [8, 5, 3]                  [P5, P8, M3]   [7, 12, 16]   \n",
       "7  [C3, E4, G4, C5]  [8, 5, 3]                  [M3, P5, P8]  [16, 19, 24]   \n",
       "8  [C3, F4, A4, C5]  [8, 6, 4]                  [P4, M6, P8]  [17, 21, 24]   \n",
       "9  [C3, E4, G4, C5]  [8, 5, 3]                  [M3, P5, P8]  [16, 19, 24]   \n",
       "\n",
       "                         Nombre intervalo completo  Beat  Compás  Duración  \\\n",
       "0     [Perfect Octave, Perfect Fifth, Major Third]   1.0       1       4.0   \n",
       "1    [Major Sixth, Perfect Fourth, Perfect Octave]   1.0       2       4.0   \n",
       "2          [Minor Sixth, Minor Third, Minor Sixth]   1.0       3       4.0   \n",
       "3  [Major Sixth, Perfect Octave, Augmented Fourth]   1.0       4       4.0   \n",
       "4       [Perfect Octave, Minor Third, Minor Sixth]   1.0       5       4.0   \n",
       "5    [Major Sixth, Perfect Octave, Perfect Fourth]   1.0       6       2.0   \n",
       "6     [Perfect Fifth, Perfect Octave, Major Third]   3.0       6       2.0   \n",
       "7     [Major Third, Perfect Fifth, Perfect Octave]   1.0       7       4.0   \n",
       "8    [Perfect Fourth, Major Sixth, Perfect Octave]   1.0       8       4.0   \n",
       "9     [Major Third, Perfect Fifth, Perfect Octave]   1.0       9       4.0   \n",
       "\n",
       "    Tipo  \n",
       "0  whole  \n",
       "1  whole  \n",
       "2  whole  \n",
       "3  whole  \n",
       "4  whole  \n",
       "5   half  \n",
       "6   half  \n",
       "7  whole  \n",
       "8  whole  \n",
       "9  whole  "
      ]
     },
     "execution_count": 7,
     "metadata": {},
     "output_type": "execute_result"
    }
   ],
   "source": [
    "df"
   ]
  },
  {
   "cell_type": "code",
   "execution_count": 8,
   "metadata": {},
   "outputs": [
    {
     "data": {
      "text/plain": [
       "'Perfect Fourth'"
      ]
     },
     "execution_count": 8,
     "metadata": {},
     "output_type": "execute_result"
    }
   ],
   "source": [
    "nota1  = \"G\"\n",
    "nota2 = \"D\"\n",
    "nota1  = note.Note(nota1)\n",
    "nota2 = note.Note(nota2)\n",
    "\n",
    "intervalo1 = interval.notesToInterval(nota1, nota2)\n",
    "intervalo1.semiSimpleNiceName\n"
   ]
  },
  {
   "cell_type": "code",
   "execution_count": 9,
   "metadata": {},
   "outputs": [
    {
     "data": {
      "text/plain": [
       "'Perfect Fourth'"
      ]
     },
     "execution_count": 9,
     "metadata": {},
     "output_type": "execute_result"
    }
   ],
   "source": [
    "intervaloa = interval.Interval(nota1, nota2)\n",
    "intervaloa.semiSimpleNiceName"
   ]
  },
  {
   "cell_type": "code",
   "execution_count": 10,
   "metadata": {},
   "outputs": [
    {
     "data": {
      "text/plain": [
       "'G4'"
      ]
     },
     "execution_count": 10,
     "metadata": {},
     "output_type": "execute_result"
    }
   ],
   "source": [
    "df.iloc[2]['Notas'][2]"
   ]
  },
  {
   "cell_type": "code",
   "execution_count": null,
   "metadata": {},
   "outputs": [],
   "source": []
  },
  {
   "cell_type": "code",
   "execution_count": 11,
   "metadata": {},
   "outputs": [
    {
     "data": {
      "text/plain": [
       "'D3'"
      ]
     },
     "execution_count": 11,
     "metadata": {},
     "output_type": "execute_result"
    }
   ],
   "source": [
    "a = ['D3', 'A3', 'F3']\n",
    "nota1 = a[0]\n",
    "\n",
    "nota1"
   ]
  },
  {
   "cell_type": "code",
   "execution_count": 12,
   "metadata": {},
   "outputs": [
    {
     "data": {
      "text/plain": [
       "<music21.note.Note D>"
      ]
     },
     "execution_count": 12,
     "metadata": {},
     "output_type": "execute_result"
    }
   ],
   "source": [
    "nota11 = note.Note(nota1)\n",
    "nota11"
   ]
  },
  {
   "cell_type": "code",
   "execution_count": 13,
   "metadata": {},
   "outputs": [
    {
     "data": {
      "text/plain": [
       "<music21.interval.Interval P-4>"
      ]
     },
     "execution_count": 13,
     "metadata": {},
     "output_type": "execute_result"
    }
   ],
   "source": [
    "nota1 = pitch.Pitch(\"G\")\n",
    "nota2 = pitch.Pitch(\"D4\")\n",
    "\n",
    "interval.Interval(nota1,nota2)"
   ]
  },
  {
   "cell_type": "code",
   "execution_count": 14,
   "metadata": {},
   "outputs": [
    {
     "data": {
      "text/plain": [
       "['C', 'G']"
      ]
     },
     "execution_count": 14,
     "metadata": {},
     "output_type": "execute_result"
    },
    {
     "name": "stderr",
     "output_type": "stream",
     "text": [
      "/home/cuba/.local/lib/python3.10/site-packages/matplotlib/projections/__init__.py:63: UserWarning: Unable to import Axes3D. This may be due to multiple versions of Matplotlib being installed (e.g. as a system package and as a pip package). As a result, the 3D projection is not available.\n",
      "  warnings.warn(\"Unable to import Axes3D. This may be due to multiple versions of \"\n"
     ]
    }
   ],
   "source": [
    "notas  = [['C'], ['E'], ['C', 'G']]\n",
    "\n",
    "notas[2]"
   ]
  },
  {
   "cell_type": "code",
   "execution_count": null,
   "metadata": {},
   "outputs": [],
   "source": []
  }
 ],
 "metadata": {
  "kernelspec": {
   "display_name": "Python 3",
   "language": "python",
   "name": "python3"
  },
  "language_info": {
   "codemirror_mode": {
    "name": "ipython",
    "version": 3
   },
   "file_extension": ".py",
   "mimetype": "text/x-python",
   "name": "python",
   "nbconvert_exporter": "python",
   "pygments_lexer": "ipython3",
   "version": "3.10.12"
  }
 },
 "nbformat": 4,
 "nbformat_minor": 2
}
